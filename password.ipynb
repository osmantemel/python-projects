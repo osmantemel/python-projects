{
 "cells": [
  {
   "cell_type": "code",
   "execution_count": 10,
   "metadata": {},
   "outputs": [],
   "source": [
    "import numpy as np\n",
    "import random\n",
    "import string"
   ]
  },
  {
   "cell_type": "code",
   "execution_count": 11,
   "metadata": {},
   "outputs": [],
   "source": [
    "def random_password_length():\n",
    "    password_length = np.random.randint(14, 20, 1)\n",
    "    return password_length\n"
   ]
  },
  {
   "cell_type": "code",
   "execution_count": 12,
   "metadata": {},
   "outputs": [],
   "source": [
    "def random_characters(length):\n",
    "    length = 5  # 5 characters long random string\n",
    "    random_string = ''.join(random.choices(string.ascii_letters + string.digits, k=length))\n",
    "    return random_string"
   ]
  },
  {
   "cell_type": "code",
   "execution_count": 13,
   "metadata": {},
   "outputs": [],
   "source": [
    "def random_symbols(length):\n",
    "    symbols = string.punctuation  \n",
    "    random_symbols = ''.join(random.choice(symbols) for _ in range(length))\n",
    "    return random_symbols"
   ]
  },
  {
   "cell_type": "code",
   "execution_count": 14,
   "metadata": {},
   "outputs": [],
   "source": [
    "def random_split(number):\n",
    "    # Choose the first part randomly\n",
    "    part1 = random.randint(1, number - 2)\n",
    "\n",
    "    # Choose the second part randomly\n",
    "    part2 = random.randint(1, number - part1 - 1)\n",
    "\n",
    "    # The third part is determined by the remaining parts\n",
    "    part3 = number - part1 - part2\n",
    "\n",
    "    return part1, part2, part3"
   ]
  },
  {
   "cell_type": "code",
   "execution_count": 15,
   "metadata": {},
   "outputs": [
    {
     "name": "stdout",
     "output_type": "stream",
     "text": [
      "Length:  15\n",
      "Digits:  5\n",
      "Letters:  9\n",
      "Symbols:  1\n"
     ]
    },
    {
     "name": "stderr",
     "output_type": "stream",
     "text": [
      "/tmp/ipykernel_25118/2519389512.py:1: DeprecationWarning: Conversion of an array with ndim > 0 to a scalar is deprecated, and will error in future. Ensure you extract a single element from your array before performing this operation. (Deprecated NumPy 1.25.)\n",
      "  length = int(random_password_length())\n"
     ]
    }
   ],
   "source": [
    "length = int(random_password_length())\n",
    "num_digits, num_letters, num_symbols = random_split(length)\n",
    "print(\"Length: \", length)\n",
    "print(\"Digits: \", num_digits)\n",
    "print(\"Letters: \", num_letters)\n",
    "print(\"Symbols: \", num_symbols)"
   ]
  },
  {
   "cell_type": "code",
   "execution_count": 16,
   "metadata": {},
   "outputs": [],
   "source": [
    "password_description = input(\"Enter the password description: \")\n",
    "\n",
    "result = \"{}{}{}\".format(random_characters(num_digits), random_characters(num_letters), random_symbols(num_symbols))\n"
   ]
  },
  {
   "cell_type": "code",
   "execution_count": 17,
   "metadata": {},
   "outputs": [],
   "source": [
    "new_dict = {} \n",
    "new_dict[\"password_description\"] = password_description\n",
    "new_dict[\"password\"] = result\n"
   ]
  },
  {
   "cell_type": "code",
   "execution_count": 18,
   "metadata": {},
   "outputs": [],
   "source": [
    "if new_dict[\"password_description\"] != \"\":\n",
    "    with open(\"passwords.txt\", \"a\") as file:\n",
    "        for key, value in new_dict.items():\n",
    "            file.write(f\"{key}: {value}\\n\")\n",
    "        file.write(\"\\n\")  # Add a newline after each record\n",
    "    file.close()"
   ]
  },
  {
   "cell_type": "code",
   "execution_count": null,
   "metadata": {},
   "outputs": [],
   "source": []
  }
 ],
 "metadata": {
  "kernelspec": {
   "display_name": "Python 3",
   "language": "python",
   "name": "python3"
  },
  "language_info": {
   "codemirror_mode": {
    "name": "ipython",
    "version": 3
   },
   "file_extension": ".py",
   "mimetype": "text/x-python",
   "name": "python",
   "nbconvert_exporter": "python",
   "pygments_lexer": "ipython3",
   "version": "3.10.12"
  }
 },
 "nbformat": 4,
 "nbformat_minor": 2
}
