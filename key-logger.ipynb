{
 "cells": [
  {
   "cell_type": "markdown",
   "metadata": {},
   "source": [
    "### İmportların Yapılması"
   ]
  },
  {
   "cell_type": "code",
   "execution_count": 26,
   "metadata": {},
   "outputs": [],
   "source": [
    "import pynput\n",
    "from pynput.keyboard import Key, Listener\n"
   ]
  },
  {
   "cell_type": "markdown",
   "metadata": {},
   "source": [
    "### Sonuçların Yazdırılması"
   ]
  },
  {
   "cell_type": "code",
   "execution_count": 27,
   "metadata": {},
   "outputs": [],
   "source": [
    "def print_results(sayaclar):\n",
    "    for karakter, sayi in sayaclar.items():\n",
    "        print(f\"{karakter}: {sayi} tıklanma\")\n"
   ]
  },
  {
   "cell_type": "markdown",
   "metadata": {},
   "source": [
    "### Sonuçların txt dosyasına Kaydedilmesi"
   ]
  },
  {
   "cell_type": "code",
   "execution_count": 28,
   "metadata": {},
   "outputs": [],
   "source": [
    "def print_txt(sayaclar, dosya_adi):\n",
    "    with open(dosya_adi, 'w') as dosya:\n",
    "        for karakter, sayi in sayaclar.items():\n",
    "            dosya.write(f\"{karakter}: {sayi} tıklanma\\n\")\n"
   ]
  },
  {
   "cell_type": "markdown",
   "metadata": {},
   "source": [
    "### Sözlüğe verilerin eklenmesi"
   ]
  },
  {
   "cell_type": "code",
   "execution_count": 29,
   "metadata": {},
   "outputs": [],
   "source": [
    "sayaclar = {}\n",
    "\n",
    "def karakter_ekle(key):\n",
    "    if key in sayaclar:\n",
    "        sayaclar[key] += 1\n",
    "    else:\n",
    "        sayaclar[key] = 1\n",
    "        \n",
    "    if key == Key.ctrl:\n",
    "        print_results(sayaclar)\n",
    "    if key == Key.tab:\n",
    "        print_txt(sayaclar, \"sonuclar.txt\")\n"
   ]
  },
  {
   "cell_type": "markdown",
   "metadata": {},
   "source": [
    "### Tuş verilerinin Alınması"
   ]
  },
  {
   "cell_type": "code",
   "execution_count": 30,
   "metadata": {},
   "outputs": [],
   "source": [
    "def on_press(key):\n",
    "    karakter_ekle(key)\n",
    "def on_release(key):\n",
    "    if key == Key.esc:\n",
    "        print(\"Çıkılıyor...\")\n",
    "        return False\n"
   ]
  },
  {
   "cell_type": "markdown",
   "metadata": {},
   "source": [
    "## MAİN FUNCTION "
   ]
  },
  {
   "cell_type": "code",
   "execution_count": 31,
   "metadata": {},
   "outputs": [
    {
     "name": "stdout",
     "output_type": "stream",
     "text": [
      "Çıkmak için ESC Sonuçları Yazdırmak İçin CTRL tuşuna basınız\n"
     ]
    },
    {
     "name": "stdout",
     "output_type": "stream",
     "text": [
      "'a': 1 tıklanma\n",
      "'z': 1 tıklanma\n",
      "Key.ctrl: 1 tıklanma\n",
      "Çıkılıyor...\n"
     ]
    }
   ],
   "source": [
    "print(\"Çıkmak için ESC Sonuçları Yazdırmak İçin CTRL tuşuna basınız\")\n",
    "with Listener(on_press=on_press, on_release=on_release) as listener:\n",
    "    listener.join()\n",
    "    "
   ]
  }
 ],
 "metadata": {
  "kernelspec": {
   "display_name": "Python 3",
   "language": "python",
   "name": "python3"
  },
  "language_info": {
   "codemirror_mode": {
    "name": "ipython",
    "version": 3
   },
   "file_extension": ".py",
   "mimetype": "text/x-python",
   "name": "python",
   "nbconvert_exporter": "python",
   "pygments_lexer": "ipython3",
   "version": "3.10.12"
  }
 },
 "nbformat": 4,
 "nbformat_minor": 2
}
