{
 "cells": [
  {
   "cell_type": "code",
   "execution_count": 7,
   "metadata": {},
   "outputs": [],
   "source": [
    "import pynput\n",
    "from pynput.keyboard import Key, Listener\n"
   ]
  },
  {
   "cell_type": "code",
   "execution_count": 8,
   "metadata": {},
   "outputs": [],
   "source": [
    "def print_results(sayaclar):\n",
    "    for karakter, sayi in sayaclar.items():\n",
    "        print(f\"{karakter}: {sayi} tıklanma\")\n"
   ]
  },
  {
   "cell_type": "code",
   "execution_count": 9,
   "metadata": {},
   "outputs": [],
   "source": [
    "sayaclar = {}\n",
    "\n",
    "def karakter_ekle(key):\n",
    "    if key in sayaclar:\n",
    "        sayaclar[key] += 1\n",
    "    else:\n",
    "        sayaclar[key] = 1\n",
    "        \n",
    "    if key == Key.ctrl:\n",
    "        print_results(sayaclar)\n"
   ]
  },
  {
   "cell_type": "code",
   "execution_count": 10,
   "metadata": {},
   "outputs": [],
   "source": [
    "def on_press(key):\n",
    "    karakter_ekle(key)\n",
    "def on_release(key):\n",
    "    if key == Key.esc:\n",
    "        print(\"Çıkılıyor...\")\n",
    "        return False\n"
   ]
  },
  {
   "cell_type": "code",
   "execution_count": 11,
   "metadata": {},
   "outputs": [
    {
     "name": "stdout",
     "output_type": "stream",
     "text": [
      "Çıkmak için ESC Sonuçları Yazdırmak İçin CTRL tuşuna basınız\n",
      "'a': 1 tıklanma\n",
      "'s': 1 tıklanma\n",
      "'d': 2 tıklanma\n",
      "'c': 1 tıklanma\n",
      "Key.ctrl: 1 tıklanma\n",
      "Çıkılıyor...\n"
     ]
    }
   ],
   "source": [
    "print(\"Çıkmak için ESC Sonuçları Yazdırmak İçin CTRL tuşuna basınız\")\n",
    "with Listener(on_press=on_press, on_release=on_release) as listener:\n",
    "    listener.join()\n"
   ]
  }
 ],
 "metadata": {
  "kernelspec": {
   "display_name": "Python 3",
   "language": "python",
   "name": "python3"
  },
  "language_info": {
   "codemirror_mode": {
    "name": "ipython",
    "version": 3
   },
   "file_extension": ".py",
   "mimetype": "text/x-python",
   "name": "python",
   "nbconvert_exporter": "python",
   "pygments_lexer": "ipython3",
   "version": "3.10.12"
  }
 },
 "nbformat": 4,
 "nbformat_minor": 2
}
