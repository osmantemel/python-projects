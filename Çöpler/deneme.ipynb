{
 "cells": [
  {
   "cell_type": "code",
   "execution_count": 165,
   "metadata": {},
   "outputs": [],
   "source": [
    "import numpy as np\n",
    "import random\n",
    "import string"
   ]
  },
  {
   "cell_type": "code",
   "execution_count": 166,
   "metadata": {},
   "outputs": [],
   "source": [
    "def random_sifre_uzunluk():\n",
    "    sifre_uzunluk = np.random.randint(14,20,1)\n",
    "    return sifre_uzunluk"
   ]
  },
  {
   "cell_type": "code",
   "execution_count": 167,
   "metadata": {},
   "outputs": [],
   "source": [
    "def random_karakter(length):\n",
    "    length = 5  # 5 karakterli rastgele string\n",
    "    random_string = ''.join(random.choices(string.ascii_letters + string.digits, k=length))\n",
    "    return random_string"
   ]
  },
  {
   "cell_type": "code",
   "execution_count": 168,
   "metadata": {},
   "outputs": [],
   "source": [
    "def random_symbols(length):\n",
    "    symbols = string.punctuation  \n",
    "    random_symbols = ''.join(random.choice(symbols) for _ in range(length))\n",
    "    return random_symbols"
   ]
  },
  {
   "cell_type": "code",
   "execution_count": 169,
   "metadata": {},
   "outputs": [],
   "source": [
    "def random_split(number):\n",
    "    # 1. parçayı rastgele seç\n",
    "    part1 = random.randint(1, number - 2)\n",
    "\n",
    "    # 2. parçayı rastgele seç\n",
    "    part2 = random.randint(1, number - part1 - 1)\n",
    "\n",
    "    # 3. parça, diğer iki parçadan kalanı alarak belirlenir\n",
    "    part3 = number - part1 - part2\n",
    "\n",
    "    return part1, part2, part3"
   ]
  },
  {
   "cell_type": "code",
   "execution_count": 170,
   "metadata": {},
   "outputs": [
    {
     "name": "stdout",
     "output_type": "stream",
     "text": [
      "uzunluk:  16\n",
      "sayi:  12\n",
      "harf:  3\n",
      "sembol:  1\n"
     ]
    },
    {
     "name": "stderr",
     "output_type": "stream",
     "text": [
      "/tmp/ipykernel_22485/1470659705.py:1: DeprecationWarning: Conversion of an array with ndim > 0 to a scalar is deprecated, and will error in future. Ensure you extract a single element from your array before performing this operation. (Deprecated NumPy 1.25.)\n",
      "  uzunluk = int(random_sifre_uzunluk())\n"
     ]
    }
   ],
   "source": [
    "uzunluk = int(random_sifre_uzunluk())\n",
    "sayi,harf,sembol=random_split(uzunluk)\n",
    "print(\"uzunluk: \",uzunluk)\n",
    "print(\"sayi: \",sayi)\n",
    "print(\"harf: \",harf)\n",
    "print(\"sembol: \",sembol)\n"
   ]
  },
  {
   "cell_type": "code",
   "execution_count": 171,
   "metadata": {},
   "outputs": [],
   "source": [
    "password_Description = input(\"Şifre Açıklamasını giriniz: \")\n"
   ]
  },
  {
   "cell_type": "code",
   "execution_count": 172,
   "metadata": {},
   "outputs": [
    {
     "data": {
      "text/plain": [
       "'MfYGL3UpB6('"
      ]
     },
     "execution_count": 172,
     "metadata": {},
     "output_type": "execute_result"
    }
   ],
   "source": [
    "result = \"{}{}{}\".format(random_karakter(sayi), random_karakter(harf), random_symbols(sembol))\n",
    "result"
   ]
  },
  {
   "cell_type": "code",
   "execution_count": 173,
   "metadata": {},
   "outputs": [
    {
     "data": {
      "text/plain": [
       "{'password_Description': 'sqs', 'password': 'MfYGL3UpB6('}"
      ]
     },
     "execution_count": 173,
     "metadata": {},
     "output_type": "execute_result"
    }
   ],
   "source": [
    "newdict = {} \n",
    "newdict[\"password_Description\"] = password_Description\n",
    "newdict[\"password\"] = result\n",
    "newdict"
   ]
  },
  {
   "cell_type": "code",
   "execution_count": 174,
   "metadata": {},
   "outputs": [],
   "source": [
    "if newdict[\"password_Description\"] != \"\":\n",
    "    with open(\"passwords.txt\", \"a\") as file:\n",
    "        for key, value in newdict.items():\n",
    "            file.write(f\"{key}: {value}\\n\")\n",
    "        file.write(\"\\n\")  # Her kayıttan sonra bir satır aşağı inmek için newline ekleyin   \n",
    "    file.close()"
   ]
  }
 ],
 "metadata": {
  "kernelspec": {
   "display_name": "Python 3",
   "language": "python",
   "name": "python3"
  },
  "language_info": {
   "codemirror_mode": {
    "name": "ipython",
    "version": 3
   },
   "file_extension": ".py",
   "mimetype": "text/x-python",
   "name": "python",
   "nbconvert_exporter": "python",
   "pygments_lexer": "ipython3",
   "version": "3.10.12"
  }
 },
 "nbformat": 4,
 "nbformat_minor": 2
}
