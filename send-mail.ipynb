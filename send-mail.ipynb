{
 "cells": [
  {
   "cell_type": "markdown",
   "metadata": {},
   "source": [
    "#### Gerekli Kütüphanelerin İmport Edilmesi "
   ]
  },
  {
   "cell_type": "code",
   "execution_count": 53,
   "metadata": {},
   "outputs": [],
   "source": [
    "import smtplib"
   ]
  },
  {
   "cell_type": "markdown",
   "metadata": {},
   "source": [
    "#### Metinde Türkçe Karakter Arama"
   ]
  },
  {
   "cell_type": "code",
   "execution_count": 54,
   "metadata": {},
   "outputs": [],
   "source": [
    "def tr_finding_characters(text):\n",
    "    temizleme_tablosu = str.maketrans(\"çğıöşü\", \"cgiosu\")\n",
    "    temizlenmis_metin = text.translate(temizleme_tablosu)\n",
    "\n",
    "    if temizlenmis_metin != text:\n",
    "        yesOrNo = input(\"Metinde Türkçe karakterler var. Temizlensin mi ?(Yes or No)\")\n",
    "        if yesOrNo == \"yes\" or yesOrNo == \"y\" or yesOrNo == \"Y\" or yesOrNo == \"Yes\":\n",
    "             return temizlenmis_metin\n",
    "        else:\n",
    "            return 1\n",
    "             \n",
    "   \n"
   ]
  },
  {
   "cell_type": "markdown",
   "metadata": {},
   "source": [
    "#### Mailin gönderilmesi "
   ]
  },
  {
   "cell_type": "code",
   "execution_count": 55,
   "metadata": {},
   "outputs": [
    {
     "name": "stdout",
     "output_type": "stream",
     "text": [
      "Metinde Türkçe Karekterler Mevcut. Mail Gönderilemedi !!\n",
      "Metinde Türkçe Karekterler Mevcut. Mail Gönderilemedi !!\n"
     ]
    },
    {
     "ename": "TypeError",
     "evalue": "int() argument must be a string, a bytes-like object or a real number, not 'NoneType'",
     "output_type": "error",
     "traceback": [
      "\u001b[0;31m---------------------------------------------------------------------------\u001b[0m",
      "\u001b[0;31mTypeError\u001b[0m                                 Traceback (most recent call last)",
      "Cell \u001b[0;32mIn[55], line 23\u001b[0m\n\u001b[1;32m     22\u001b[0m \u001b[38;5;28;01mtry\u001b[39;00m:\n\u001b[0;32m---> 23\u001b[0m     \u001b[43mserver\u001b[49m\u001b[38;5;241;43m.\u001b[39;49m\u001b[43msendmail\u001b[49m\u001b[43m(\u001b[49m\u001b[43msender\u001b[49m\u001b[43m,\u001b[49m\u001b[43m \u001b[49m\u001b[43mrecipient\u001b[49m\u001b[43m,\u001b[49m\u001b[43m \u001b[49m\u001b[43mmessage_content\u001b[49m\u001b[43m)\u001b[49m\n\u001b[1;32m     24\u001b[0m     \u001b[38;5;28mprint\u001b[39m(\u001b[38;5;124m\"\u001b[39m\u001b[38;5;124mMail Başarılı Bir Şekilde Gönderildi\u001b[39m\u001b[38;5;124m\"\u001b[39m)\n",
      "File \u001b[0;32m/usr/lib/python3.10/smtplib.py:878\u001b[0m, in \u001b[0;36mSMTP.sendmail\u001b[0;34m(self, from_addr, to_addrs, msg, mail_options, rcpt_options)\u001b[0m\n\u001b[1;32m    877\u001b[0m \u001b[38;5;28;01mif\u001b[39;00m \u001b[38;5;28mself\u001b[39m\u001b[38;5;241m.\u001b[39mhas_extn(\u001b[38;5;124m'\u001b[39m\u001b[38;5;124msize\u001b[39m\u001b[38;5;124m'\u001b[39m):\n\u001b[0;32m--> 878\u001b[0m     esmtp_opts\u001b[38;5;241m.\u001b[39mappend(\u001b[38;5;124m\"\u001b[39m\u001b[38;5;124msize=\u001b[39m\u001b[38;5;132;01m%d\u001b[39;00m\u001b[38;5;124m\"\u001b[39m \u001b[38;5;241m%\u001b[39m \u001b[38;5;28;43mlen\u001b[39;49m\u001b[43m(\u001b[49m\u001b[43mmsg\u001b[49m\u001b[43m)\u001b[49m)\n\u001b[1;32m    879\u001b[0m \u001b[38;5;28;01mfor\u001b[39;00m option \u001b[38;5;129;01min\u001b[39;00m mail_options:\n",
      "\u001b[0;31mTypeError\u001b[0m: object of type 'NoneType' has no len()",
      "\nDuring handling of the above exception, another exception occurred:\n",
      "\u001b[0;31mTypeError\u001b[0m                                 Traceback (most recent call last)",
      "Cell \u001b[0;32mIn[55], line 28\u001b[0m\n\u001b[1;32m     26\u001b[0m     \u001b[38;5;28;01mbreak\u001b[39;00m\n\u001b[1;32m     27\u001b[0m \u001b[38;5;28;01mexcept\u001b[39;00m :\n\u001b[0;32m---> 28\u001b[0m     \u001b[38;5;28;01mif\u001b[39;00m \u001b[38;5;28;43mint\u001b[39;49m\u001b[43m(\u001b[49m\u001b[43mmessage_content\u001b[49m\u001b[43m)\u001b[49m \u001b[38;5;241m==\u001b[39m \u001b[38;5;241m1\u001b[39m:\n\u001b[1;32m     29\u001b[0m         \u001b[38;5;28mprint\u001b[39m(\u001b[38;5;124m\"\u001b[39m\u001b[38;5;124mMetinde Türkçe Karekterler Mevcut. Mail Gönderilemedi !!\u001b[39m\u001b[38;5;124m\"\u001b[39m)\n\u001b[1;32m     30\u001b[0m         \u001b[38;5;28;01mcontinue\u001b[39;00m\n",
      "\u001b[0;31mTypeError\u001b[0m: int() argument must be a string, a bytes-like object or a real number, not 'NoneType'"
     ]
    }
   ],
   "source": [
    "while True:\n",
    "    sender = input(\"Gönderen e-posta adresi: \")\n",
    "    password = input(\"Gönderen şifre: \")\n",
    "\n",
    "    try:\n",
    "        server = smtplib.SMTP('smtp.gmail.com', 587)\n",
    "        server.ehlo()\n",
    "        server.starttls()\n",
    "        server.ehlo()\n",
    "        server.login(sender, password)\n",
    "    except smtplib.SMTPAuthenticationError:\n",
    "        print(\"Şifre veya e-posta yanlış. Lütfen tekrar giriniz.\")\n",
    "        print(\"Mail adresinizin ayarlarından Güvenliği düşük uygulama erişimine izin veriniz\")\n",
    "        continue\n",
    "    a=True \n",
    "    while a:\n",
    "        recipient = input(\"Alıcı e-posta adresi: \")\n",
    "        message_content = input(\"Mesaj içeriği: \")\n",
    "\n",
    "        message_content = tr_finding_characters(message_content)\n",
    "\n",
    "        try:\n",
    "            server.sendmail(sender, recipient, message_content)\n",
    "            print(\"Mail Başarılı Bir Şekilde Gönderildi\")\n",
    "            a = False\n",
    "            break\n",
    "        except :\n",
    "            if int(message_content) != 1:\n",
    "                print(\"Alıcı e-posta adresi yanlış\")\n",
    "                continue\n",
    "            else:\n",
    "                print(\"Metinde Türkçe Karekterler Mevcut. Mail Gönderilemedi !!\")\n",
    "                continue\n",
    "    if a == False:\n",
    "        break\n",
    "    server.quit()"
   ]
  }
 ],
 "metadata": {
  "kernelspec": {
   "display_name": "Python 3",
   "language": "python",
   "name": "python3"
  },
  "language_info": {
   "codemirror_mode": {
    "name": "ipython",
    "version": 3
   },
   "file_extension": ".py",
   "mimetype": "text/x-python",
   "name": "python",
   "nbconvert_exporter": "python",
   "pygments_lexer": "ipython3",
   "version": "3.10.12"
  }
 },
 "nbformat": 4,
 "nbformat_minor": 2
}
